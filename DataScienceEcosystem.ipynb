{
 "cells": [
  {
   "cell_type": "markdown",
   "id": "1d0ca9fc-315d-468d-be0f-ffc33479f649",
   "metadata": {},
   "source": [
    "# Data Science Tools and Ecosystem"
   ]
  },
  {
   "cell_type": "markdown",
   "id": "b25a4df4-4ab2-456c-bc18-4e7317101e56",
   "metadata": {},
   "source": [
    "En este cuaderno, se resumen las herramientas y ecosistemas de ciencia de datos."
   ]
  },
  {
   "cell_type": "markdown",
   "id": "3877fd7e-2713-46e9-917c-c73b90911020",
   "metadata": {},
   "source": [
    "**Objetivos:**\n",
    "\n",
    "- Listar lenguajes populares para Ciencia de Datos.\n",
    "- Aprender a manipular datos con Pandas y NumPy.\n",
    "- Visualizar datos mediante herramientas como Matplotlib y Seaborn.\n",
    "- Aplicar modelos de Aprendizaje Automático con Scikit-learn.\n",
    "- Explorar técnicas de procesamiento de datos en Jupyter Notebook."
   ]
  },
  {
   "cell_type": "markdown",
   "id": "c6086e94-2412-425d-965e-5ba84e2098bd",
   "metadata": {},
   "source": [
    "Algunos de los lenguajes populares que utilizan los científicos de datos son:\n",
    "1. Python\n",
    "2. SQL\n",
    "3. R"
   ]
  },
  {
   "cell_type": "markdown",
   "id": "97f9781e-ae34-405b-8596-0db0da0459d3",
   "metadata": {},
   "source": [
    "Algunas de las bibliotecas comúnmente utilizadas por los científicos de datos incluyen:\n",
    "1. Pandas\n",
    "2. Numpy\n",
    "3. Ploty"
   ]
  },
  {
   "cell_type": "markdown",
   "id": "f977a719-c332-4b86-bae0-7d3f892f04f3",
   "metadata": {},
   "source": [
    "| Herramientas de Ciencia de Datos| \n",
    "| -------------|\n",
    "| Jupyter Notebook| \n",
    "| Apache Spark| \n",
    "| RStudio| "
   ]
  },
  {
   "cell_type": "markdown",
   "id": "4d743586-ec20-4924-8c8f-924cef850a11",
   "metadata": {},
   "source": [
    "### A continuación, se presentan algunos ejemplos de evaluación de expresiones aritméticas en Python"
   ]
  },
  {
   "cell_type": "code",
   "execution_count": 1,
   "id": "55eca9b7-f638-4a2b-a262-248457c36307",
   "metadata": {},
   "outputs": [
    {
     "data": {
      "text/plain": [
       "17"
      ]
     },
     "execution_count": 1,
     "metadata": {},
     "output_type": "execute_result"
    }
   ],
   "source": [
    "# Esta es una expresión aritmética simple para multiplicar y luego sumar enteros\n",
    "(3*4)+5"
   ]
  },
  {
   "cell_type": "code",
   "execution_count": 4,
   "id": "6ad2a4cf-0083-447f-98c7-b1d01287cb32",
   "metadata": {},
   "outputs": [
    {
     "data": {
      "text/plain": [
       "3.3333333333333335"
      ]
     },
     "execution_count": 4,
     "metadata": {},
     "output_type": "execute_result"
    }
   ],
   "source": [
    "#Esto convertirá 200 minutos a horas dividiendo por 60\n",
    "200/60\n"
   ]
  },
  {
   "cell_type": "markdown",
   "id": "f0d32d09-0090-4646-915d-a69d3c94b669",
   "metadata": {},
   "source": [
    "## Autor  \n",
    "Luis  "
   ]
  },
  {
   "cell_type": "code",
   "execution_count": null,
   "id": "0b67cb57-e6bd-4340-a546-0c9a8fe33292",
   "metadata": {},
   "outputs": [],
   "source": []
  }
 ],
 "metadata": {
  "kernelspec": {
   "display_name": "Python 3 (ipykernel)",
   "language": "python",
   "name": "python3"
  },
  "language_info": {
   "codemirror_mode": {
    "name": "ipython",
    "version": 3
   },
   "file_extension": ".py",
   "mimetype": "text/x-python",
   "name": "python",
   "nbconvert_exporter": "python",
   "pygments_lexer": "ipython3",
   "version": "3.12.8"
  }
 },
 "nbformat": 4,
 "nbformat_minor": 5
}
